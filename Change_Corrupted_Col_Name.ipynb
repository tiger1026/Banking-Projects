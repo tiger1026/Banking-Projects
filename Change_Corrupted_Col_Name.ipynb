{
 "cells": [
  {
   "cell_type": "code",
   "execution_count": 19,
   "metadata": {},
   "outputs": [],
   "source": [
    "import os\n",
    "# Columns in our CSV files that need to be changed:\n",
    "# (41,42) : Comma's will corrupt csv file if read as dataframe\n",
    "# (34,35,47)\n",
    "# there should be total of 4 places we need to change in each csv file\n",
    "\n",
    "# set path\n",
    "path = \"C:/Users/120200/Desktop/Product Recommendation-Tiger/Train/\"\n",
    "\n",
    "# Create list of files we hope to change \n",
    "# add more if we query more data\n",
    "List_df = ['B360_202107_DawhoOnly_FinanceHomeLoan.csv', \n",
    "           'B360_202107_DawhoOnly_HomeLoan.csv',\n",
    "           'B360_202107_DawhoOnly_MutualFund.csv',\n",
    "           'B360_202107_DawhoOnly_CreditLoan.csv',\n",
    "           'B360_202107_DawhoOnly_Purchased.csv',\n",
    "           'B360_202106_DawhoOnly_Purchased.csv',\n",
    "           'B360_202105_DawhoOnly_Purchased.csv',\n",
    "           'B360_202104_DawhoOnly_Purchased.csv']"
   ]
  },
  {
   "cell_type": "code",
   "execution_count": 20,
   "metadata": {},
   "outputs": [],
   "source": [
    "# for loop to open file and change file \n",
    "replacements = {'(41,42)':'(41_42)', '(34,35,47)':'(34_35_47)'}\n",
    "\n",
    "for i in List_df:\n",
    "    lines = []\n",
    "    with open(os.path.join(path, i), encoding='utf-8') as infile:\n",
    "        for line in infile:\n",
    "            for src, target in replacements.items():\n",
    "                line = line.replace(src, target)\n",
    "            lines.append(line)\n",
    "    with open(os.path.join(path, i), 'w', encoding='utf-8') as outfile:\n",
    "        for line in lines:\n",
    "            outfile.write(line)"
   ]
  },
  {
   "cell_type": "code",
   "execution_count": null,
   "metadata": {},
   "outputs": [],
   "source": []
  }
 ],
 "metadata": {
  "kernelspec": {
   "display_name": "Python 3",
   "language": "python",
   "name": "python3"
  },
  "language_info": {
   "codemirror_mode": {
    "name": "ipython",
    "version": 3
   },
   "file_extension": ".py",
   "mimetype": "text/x-python",
   "name": "python",
   "nbconvert_exporter": "python",
   "pygments_lexer": "ipython3",
   "version": "3.7.4"
  }
 },
 "nbformat": 4,
 "nbformat_minor": 2
}
