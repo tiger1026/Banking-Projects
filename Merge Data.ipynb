{
 "cells": [
  {
   "cell_type": "code",
   "execution_count": 2,
   "metadata": {},
   "outputs": [],
   "source": [
    "# import pandas as pd\n",
    "import pandas as pd\n",
    "import gc\n",
    "import os\n",
    "# setup path\n",
    "path = \"C:/Users/120200/Desktop/Product Recommendation-Tiger/Train/\""
   ]
  },
  {
   "cell_type": "code",
   "execution_count": 4,
   "metadata": {
    "scrolled": false
   },
   "outputs": [
    {
     "data": {
      "text/plain": [
       "0"
      ]
     },
     "execution_count": 4,
     "metadata": {},
     "output_type": "execute_result"
    }
   ],
   "source": [
    "df4_1 = pd.read_csv(os.path.join(path, \"B360_202104_10Percent_DawhoOnly_1.csv\"))\n",
    "df4_2 = pd.read_csv(os.path.join(path, \"B360_202104_10Percent_DawhoOnly_2.csv\"))\n",
    "df4_3 = pd.read_csv(os.path.join(path, \"B360_202104_DawhoOnly_Purchased.csv\")) \n",
    "df4 = df4_1.append(df4_2, ignore_index=True)\n",
    "df4 = df4.append(df4_3, ignore_index=True)\n",
    "df4.drop_duplicates(subset=['身分證字號'], inplace=True)\n",
    "df4 = df4.reset_index(drop=True)\n",
    "df4.to_csv(os.path.join(path, \"B360_202104_10Percent_DawhoOnly.csv\"), index=False)\n",
    "del df4_1, df4_2, df4_3\n",
    "gc.collect()"
   ]
  },
  {
   "cell_type": "code",
   "execution_count": 5,
   "metadata": {},
   "outputs": [
    {
     "data": {
      "text/plain": [
       "(47012, 645)"
      ]
     },
     "execution_count": 5,
     "metadata": {},
     "output_type": "execute_result"
    }
   ],
   "source": [
    "df4.shape"
   ]
  },
  {
   "cell_type": "code",
   "execution_count": 6,
   "metadata": {},
   "outputs": [
    {
     "data": {
      "text/plain": [
       "40"
      ]
     },
     "execution_count": 6,
     "metadata": {},
     "output_type": "execute_result"
    }
   ],
   "source": [
    "del df4; gc.collect()"
   ]
  },
  {
   "cell_type": "code",
   "execution_count": 7,
   "metadata": {},
   "outputs": [
    {
     "name": "stderr",
     "output_type": "stream",
     "text": [
      "C:\\ProgramData\\Anaconda3\\lib\\site-packages\\IPython\\core\\interactiveshell.py:3147: DtypeWarning: Columns (19,60,70,221,283,287,296) have mixed types. Specify dtype option on import or set low_memory=False.\n",
      "  interactivity=interactivity, compiler=compiler, result=result)\n"
     ]
    },
    {
     "data": {
      "text/plain": [
       "0"
      ]
     },
     "execution_count": 7,
     "metadata": {},
     "output_type": "execute_result"
    }
   ],
   "source": [
    "df5_1 = pd.read_csv(os.path.join(path, \"B360_202105_10Percent_DawhoOnly_1.csv\"))\n",
    "df5_2 = pd.read_csv(os.path.join(path, \"B360_202105_10Percent_DawhoOnly_2.csv\"))\n",
    "df5_3 = pd.read_csv(os.path.join(path, \"B360_202105_DawhoOnly_Purchased.csv\"))\n",
    "df5 = df5_1.append(df5_2, ignore_index=True)\n",
    "df5 = df5.append(df5_3, ignore_index=True)\n",
    "df5.drop_duplicates(subset=['身分證字號'], inplace=True)\n",
    "df5 = df5.reset_index(drop=True)\n",
    "df5.to_csv(os.path.join(path, \"B360_202105_10Percent_DawhoOnly.csv\"), index=False)\n",
    "del df5_1, df5_2, df5_3\n",
    "gc.collect()"
   ]
  },
  {
   "cell_type": "code",
   "execution_count": 8,
   "metadata": {},
   "outputs": [
    {
     "data": {
      "text/plain": [
       "(47828, 645)"
      ]
     },
     "execution_count": 8,
     "metadata": {},
     "output_type": "execute_result"
    }
   ],
   "source": [
    "df5.shape"
   ]
  },
  {
   "cell_type": "code",
   "execution_count": 9,
   "metadata": {},
   "outputs": [
    {
     "data": {
      "text/plain": [
       "40"
      ]
     },
     "execution_count": 9,
     "metadata": {},
     "output_type": "execute_result"
    }
   ],
   "source": [
    "del df5; gc.collect()"
   ]
  },
  {
   "cell_type": "code",
   "execution_count": 10,
   "metadata": {},
   "outputs": [
    {
     "name": "stderr",
     "output_type": "stream",
     "text": [
      "C:\\ProgramData\\Anaconda3\\lib\\site-packages\\IPython\\core\\interactiveshell.py:3147: DtypeWarning: Columns (19,60,70,221,283,287,296,297) have mixed types. Specify dtype option on import or set low_memory=False.\n",
      "  interactivity=interactivity, compiler=compiler, result=result)\n",
      "C:\\ProgramData\\Anaconda3\\lib\\site-packages\\IPython\\core\\interactiveshell.py:3147: DtypeWarning: Columns (19,60,70,221,283,296) have mixed types. Specify dtype option on import or set low_memory=False.\n",
      "  interactivity=interactivity, compiler=compiler, result=result)\n"
     ]
    },
    {
     "data": {
      "text/plain": [
       "0"
      ]
     },
     "execution_count": 10,
     "metadata": {},
     "output_type": "execute_result"
    }
   ],
   "source": [
    "df6_1 = pd.read_csv(os.path.join(path, \"B360_202106_10Percent_DawhoOnly_1.csv\"))\n",
    "df6_2 = pd.read_csv(os.path.join(path, \"B360_202106_10Percent_DawhoOnly_2.csv\"))\n",
    "df6_3 = pd.read_csv(os.path.join(path, \"B360_202106_DawhoOnly_Purchased.csv\"))\n",
    "df6 = df6_1.append(df6_2, ignore_index=True)\n",
    "df6 = df6.append(df6_3, ignore_index=True)\n",
    "df6.drop_duplicates(subset=['身分證字號'], inplace=True)\n",
    "df6 = df6.reset_index(drop=True)\n",
    "df6.to_csv(os.path.join(path, \"B360_202106_10Percent_DawhoOnly_1.csv\"), index=False)\n",
    "del df6_1, df6_2\n",
    "gc.collect()"
   ]
  },
  {
   "cell_type": "code",
   "execution_count": 11,
   "metadata": {},
   "outputs": [
    {
     "data": {
      "text/plain": [
       "(48359, 645)"
      ]
     },
     "execution_count": 11,
     "metadata": {},
     "output_type": "execute_result"
    }
   ],
   "source": [
    "df6.shape"
   ]
  },
  {
   "cell_type": "code",
   "execution_count": 12,
   "metadata": {},
   "outputs": [
    {
     "data": {
      "text/plain": [
       "40"
      ]
     },
     "execution_count": 12,
     "metadata": {},
     "output_type": "execute_result"
    }
   ],
   "source": [
    "del df6; gc.collect()"
   ]
  },
  {
   "cell_type": "code",
   "execution_count": 13,
   "metadata": {},
   "outputs": [
    {
     "name": "stderr",
     "output_type": "stream",
     "text": [
      "C:\\ProgramData\\Anaconda3\\lib\\site-packages\\IPython\\core\\interactiveshell.py:3147: DtypeWarning: Columns (60,70,283,287,296,297) have mixed types. Specify dtype option on import or set low_memory=False.\n",
      "  interactivity=interactivity, compiler=compiler, result=result)\n",
      "C:\\ProgramData\\Anaconda3\\lib\\site-packages\\IPython\\core\\interactiveshell.py:3147: DtypeWarning: Columns (60,70,221,283,296) have mixed types. Specify dtype option on import or set low_memory=False.\n",
      "  interactivity=interactivity, compiler=compiler, result=result)\n"
     ]
    },
    {
     "data": {
      "text/plain": [
       "0"
      ]
     },
     "execution_count": 13,
     "metadata": {},
     "output_type": "execute_result"
    }
   ],
   "source": [
    "df7_1 = pd.read_csv(os.path.join(path, \"B360_202107_10Percent_DawhoOnly_1.csv\"))\n",
    "df7_2 = pd.read_csv(os.path.join(path, \"B360_202107_10Percent_DawhoOnly_2.csv\"))\n",
    "df7_3 = pd.read_csv(os.path.join(path, \"B360_202107_DawhoOnly_Purchased.csv\"))\n",
    "df7 = df7_1.append(df7_2, ignore_index=True)\n",
    "df7 = df7.append(df7_3, ignore_index=True)\n",
    "df7.drop_duplicates(subset=['身分證字號'], inplace=True)\n",
    "df7 = df7.reset_index(drop=True)\n",
    "df7.to_csv(os.path.join(path, \"B360_202107_10Percent_DawhoOnly.csv\"), index=False)\n",
    "del df7_1, df7_2\n",
    "gc.collect()"
   ]
  },
  {
   "cell_type": "code",
   "execution_count": 14,
   "metadata": {},
   "outputs": [
    {
     "data": {
      "text/plain": [
       "(48378, 645)"
      ]
     },
     "execution_count": 14,
     "metadata": {},
     "output_type": "execute_result"
    }
   ],
   "source": [
    "df7.shape"
   ]
  },
  {
   "cell_type": "code",
   "execution_count": 15,
   "metadata": {},
   "outputs": [
    {
     "data": {
      "text/plain": [
       "40"
      ]
     },
     "execution_count": 15,
     "metadata": {},
     "output_type": "execute_result"
    }
   ],
   "source": [
    "del df7; gc.collect()"
   ]
  },
  {
   "cell_type": "code",
   "execution_count": null,
   "metadata": {},
   "outputs": [],
   "source": []
  }
 ],
 "metadata": {
  "kernelspec": {
   "display_name": "Python 3",
   "language": "python",
   "name": "python3"
  },
  "language_info": {
   "codemirror_mode": {
    "name": "ipython",
    "version": 3
   },
   "file_extension": ".py",
   "mimetype": "text/x-python",
   "name": "python",
   "nbconvert_exporter": "python",
   "pygments_lexer": "ipython3",
   "version": "3.7.6"
  }
 },
 "nbformat": 4,
 "nbformat_minor": 2
}
