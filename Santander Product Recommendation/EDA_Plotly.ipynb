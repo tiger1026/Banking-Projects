{
 "cells": [
  {
   "cell_type": "markdown",
   "metadata": {},
   "source": [
    "# Santander Product Recommendation Graphs\n",
    "\n",
    "Data obtained from: https://www.kaggle.com/c/santander-product-recommendation/data\n",
    "Data fields and description can be found on Kaggle.\n",
    "\n",
    "This notebook only contains data visualization. "
   ]
  },
  {
   "cell_type": "code",
   "execution_count": 2,
   "metadata": {},
   "outputs": [],
   "source": [
    "# imoprt libraries\n",
    "import numpy as np\n",
    "import pandas as pd\n",
    "import plotly.graph_objects as go\n",
    "import plotly.express as px\n",
    "from jupyter_dash import JupyterDash\n",
    "import dash_core_components as dcc\n",
    "import dash_html_components as html\n",
    "from dash.dependencies import Input, Output\n",
    "import warnings\n",
    "warnings.filterwarnings(\"ignore\")"
   ]
  },
  {
   "cell_type": "code",
   "execution_count": 3,
   "metadata": {},
   "outputs": [],
   "source": [
    "# import dataset\n",
    "df = pd.read_csv(r\"C:\\Users\\tiger\\Documents\\data\\Banco santandor\\train_ver2.csv\")\n"
   ]
  },
  {
   "cell_type": "code",
   "execution_count": 4,
   "metadata": {},
   "outputs": [],
   "source": [
    "# graph histograms\n",
    "# graphs should show histograms when only one dropdown is selected\n",
    "# if both dropdown has been selected\n",
    "# it should return a scatter plot with x and y as the two values selected in dropdown\n",
    "# otherwise return nothing\n",
    "\n",
    "columns = df.columns.tolist()\n",
    "dlist = []\n",
    "for i in columns:\n",
    "    d={}\n",
    "    d['label']=i\n",
    "    d['value']=i\n",
    "    dlist.append(d)\n",
    "\n",
    "# Build App\n",
    "\n",
    "app = JupyterDash(__name__)\n",
    "app.layout = html.Div([\n",
    "    html.H1(\"Distribution Plots\"),\n",
    "    dcc.Graph(id='graph'),\n",
    "    html.Label([\n",
    "        \"column_name\",\n",
    "        dcc.Dropdown(\n",
    "            id='column_name_dropdown',\n",
    "            options=dlist,\n",
    "        )\n",
    "    ]),\n",
    "])\n",
    "\n",
    "# Define callback to update graph\n",
    "@app.callback(\n",
    "    Output('graph', 'figure'),\n",
    "    [Input(\"column_name_dropdown\", \"value\")]\n",
    ")\n",
    "def update_figure(column_name):\n",
    "    return px.histogram(df, x=df.column_name)\n",
    "    "
   ]
  },
  {
   "cell_type": "code",
   "execution_count": null,
   "metadata": {},
   "outputs": [],
   "source": []
  }
 ],
 "metadata": {
  "kernelspec": {
   "display_name": "Python 3",
   "language": "python",
   "name": "python3"
  },
  "language_info": {
   "codemirror_mode": {
    "name": "ipython",
    "version": 3
   },
   "file_extension": ".py",
   "mimetype": "text/x-python",
   "name": "python",
   "nbconvert_exporter": "python",
   "pygments_lexer": "ipython3",
   "version": "3.7.3"
  }
 },
 "nbformat": 4,
 "nbformat_minor": 4
}
