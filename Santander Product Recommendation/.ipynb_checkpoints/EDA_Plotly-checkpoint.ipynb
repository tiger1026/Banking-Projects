{
 "cells": [
  {
   "cell_type": "markdown",
   "metadata": {},
   "source": [
    "# Santander Product Recommendation Graphs\n",
    "\n",
    "Data obtained from: https://www.kaggle.com/c/santander-product-recommendation/data\n",
    "Data fields and description can be found on Kaggle.\n",
    "\n",
    "This notebook only contains data visualization. "
   ]
  },
  {
   "cell_type": "code",
   "execution_count": 3,
   "metadata": {},
   "outputs": [],
   "source": [
    "# imoprt libraries\n",
    "import numpy as np\n",
    "import pandas as pd\n",
    "import matplotlib.pyplot as plt\n",
    "import warnings\n",
    "warnings.filterwarnings(\"ignore\")\n",
    "%matplotlib inline"
   ]
  },
  {
   "cell_type": "code",
   "execution_count": 9,
   "metadata": {},
   "outputs": [],
   "source": [
    "# import dataset\n",
    "df = pd.read_csv(r\"C:\\Users\\tiger\\Documents\\data\\Banco santandor\\train_ver2.csv\")"
   ]
  },
  {
   "cell_type": "code",
   "execution_count": 24,
   "metadata": {},
   "outputs": [
    {
     "name": "stdout",
     "output_type": "stream",
     "text": [
      "<class 'pandas.core.frame.DataFrame'>\n",
      "RangeIndex: 13647309 entries, 0 to 13647308\n",
      "Data columns (total 48 columns):\n",
      "fecha_dato               13647309 non-null datetime64[ns]\n",
      "ncodpers                 13647309 non-null int64\n",
      "ind_empleado             13619575 non-null object\n",
      "pais_residencia          13619575 non-null object\n",
      "sexo                     13619505 non-null object\n",
      "age                      13647309 non-null object\n",
      "fecha_alta               13619575 non-null datetime64[ns]\n",
      "ind_nuevo                13619575 non-null float64\n",
      "antiguedad               13647309 non-null object\n",
      "indrel                   13619575 non-null float64\n",
      "ult_fec_cli_1t           24793 non-null datetime64[ns]\n",
      "indrel_1mes              13497528 non-null object\n",
      "tiprel_1mes              13497528 non-null object\n",
      "indresi                  13619575 non-null object\n",
      "indext                   13619575 non-null object\n",
      "conyuemp                 1808 non-null object\n",
      "canal_entrada            13461183 non-null object\n",
      "indfall                  13619575 non-null object\n",
      "tipodom                  13619574 non-null float64\n",
      "cod_prov                 13553718 non-null float64\n",
      "nomprov                  13553718 non-null object\n",
      "ind_actividad_cliente    13619575 non-null float64\n",
      "renta                    10852934 non-null float64\n",
      "segmento                 13457941 non-null object\n",
      "ind_ahor_fin_ult1        13647309 non-null int64\n",
      "ind_aval_fin_ult1        13647309 non-null int64\n",
      "ind_cco_fin_ult1         13647309 non-null int64\n",
      "ind_cder_fin_ult1        13647309 non-null int64\n",
      "ind_cno_fin_ult1         13647309 non-null int64\n",
      "ind_ctju_fin_ult1        13647309 non-null int64\n",
      "ind_ctma_fin_ult1        13647309 non-null int64\n",
      "ind_ctop_fin_ult1        13647309 non-null int64\n",
      "ind_ctpp_fin_ult1        13647309 non-null int64\n",
      "ind_deco_fin_ult1        13647309 non-null int64\n",
      "ind_deme_fin_ult1        13647309 non-null int64\n",
      "ind_dela_fin_ult1        13647309 non-null int64\n",
      "ind_ecue_fin_ult1        13647309 non-null int64\n",
      "ind_fond_fin_ult1        13647309 non-null int64\n",
      "ind_hip_fin_ult1         13647309 non-null int64\n",
      "ind_plan_fin_ult1        13647309 non-null int64\n",
      "ind_pres_fin_ult1        13647309 non-null int64\n",
      "ind_reca_fin_ult1        13647309 non-null int64\n",
      "ind_tjcr_fin_ult1        13647309 non-null int64\n",
      "ind_valo_fin_ult1        13647309 non-null int64\n",
      "ind_viv_fin_ult1         13647309 non-null int64\n",
      "ind_nomina_ult1          13631246 non-null float64\n",
      "ind_nom_pens_ult1        13631246 non-null float64\n",
      "ind_recibo_ult1          13647309 non-null int64\n",
      "dtypes: datetime64[ns](3), float64(8), int64(23), object(14)\n",
      "memory usage: 4.9+ GB\n"
     ]
    }
   ],
   "source": [
    "# some basic info\n",
    "df.info(verbose=True, null_counts=True)\n",
    "\n",
    "# note it shows no null values but in fact there is 'NaN' stored as objects\n",
    "# and most of these are stored as objects which we should try to change hopefully to integers\n",
    "# any object not as integers we will be using them as categorical values"
   ]
  },
  {
   "cell_type": "code",
   "execution_count": 22,
   "metadata": {},
   "outputs": [],
   "source": [
    "# from info we see that date columns are stored as objects\n",
    "# its always better for dates to be in 'datetime' format\n",
    "df['fecha_dato'] = pd.to_datetime(df['fecha_dato'])\n",
    "df['fecha_alta'] = pd.to_datetime(df['fecha_alta'])\n",
    "df['ult_fec_cli_1t'] = pd.to_datetime(df['ult_fec_cli_1t'])\n",
    "\n",
    "# we can check the values with df.info() again after executing this cell"
   ]
  },
  {
   "cell_type": "code",
   "execution_count": 23,
   "metadata": {},
   "outputs": [
    {
     "data": {
      "text/plain": [
       "array(['N', nan, 'A', 'B', 'F', 'S'], dtype=object)"
      ]
     },
     "execution_count": 23,
     "metadata": {},
     "output_type": "execute_result"
    }
   ],
   "source": [
    "# look at histogram of ind_empleado\n",
    "df['ind_empleado'].unique()\n",
    "\n",
    "# we can see the nan in this column here"
   ]
  },
  {
   "cell_type": "code",
   "execution_count": null,
   "metadata": {},
   "outputs": [],
   "source": []
  }
 ],
 "metadata": {
  "kernelspec": {
   "display_name": "Python 3",
   "language": "python",
   "name": "python3"
  },
  "language_info": {
   "codemirror_mode": {
    "name": "ipython",
    "version": 3
   },
   "file_extension": ".py",
   "mimetype": "text/x-python",
   "name": "python",
   "nbconvert_exporter": "python",
   "pygments_lexer": "ipython3",
   "version": "3.7.3"
  }
 },
 "nbformat": 4,
 "nbformat_minor": 4
}
