{
 "cells": [
  {
   "cell_type": "code",
   "execution_count": 1,
   "metadata": {
    "scrolled": false
   },
   "outputs": [
    {
     "name": "stderr",
     "output_type": "stream",
     "text": [
      "C:\\ProgramData\\Anaconda3\\lib\\site-packages\\IPython\\core\\interactiveshell.py:3058: DtypeWarning: Columns (221) have mixed types. Specify dtype option on import or set low_memory=False.\n",
      "  interactivity=interactivity, compiler=compiler, result=result)\n",
      "C:\\ProgramData\\Anaconda3\\lib\\site-packages\\IPython\\core\\interactiveshell.py:3058: DtypeWarning: Columns (293) have mixed types. Specify dtype option on import or set low_memory=False.\n",
      "  interactivity=interactivity, compiler=compiler, result=result)\n"
     ]
    }
   ],
   "source": [
    "# get ids from possible purchased customers then query afterwards\n",
    "import pandas as pd\n",
    "import gc\n",
    "import os\n",
    "# setup path\n",
    "path = \"C:/Users/120200/Desktop/Product Recommendation-Tiger/Train/\"\n",
    "\n",
    "# get all ids from all possible product purchass\n",
    "df7_Credit = pd.read_csv(os.path.join(path, \"B360_202107_DawhoOnly_CreditLoan.csv\"))\n",
    "df7_FinanceHomeLoan = pd.read_csv(os.path.join(path, \"B360_202107_DawhoOnly_FinanceHomeLoan.csv\"))\n",
    "df7_HomeLoan = pd.read_csv(os.path.join(path, \"B360_202107_DawhoOnly_HomeLoan.csv\"))\n",
    "df7_MutualFund = pd.read_csv(os.path.join(path, \"B360_202107_DawhoOnly_MutualFund.csv\"))\n",
    "\n",
    "# lets collect first 50% of each data for train\n",
    "df_creditID = df7_Credit['身分證字號'].tolist()\n",
    "df_creditID = df_creditID[:(len(df_creditID)//2)]\n",
    "df7_FinanceHomeLoanID = df7_FinanceHomeLoan['身分證字號'].tolist()\n",
    "df7_FinanceHomeLoanID = df7_FinanceHomeLoanID[:(len(df7_FinanceHomeLoanID)//2)]\n",
    "df7_HomeLoanID = df7_HomeLoan['身分證字號'].tolist()\n",
    "df7_HomeLoanID = df7_HomeLoanID[:(len(df7_HomeLoanID)//2)]\n",
    "df7_MutualFundID = df7_MutualFund['身分證字號'].tolist()\n",
    "df7_MutualFundID = df7_MutualFundID[:(len(df7_MutualFundID)//2)]\n",
    "IDall = df_creditID + df7_FinanceHomeLoanID + df7_HomeLoanID + df7_MutualFundID\n",
    "# len(IDall) = 2460\n",
    "\n",
    "# drop duplicates\n",
    "IDall = list(dict.fromkeys(IDall))\n",
    "# len(IDall) = 2357 so a few people have mrore than 1 products (not necessarily bought)\n",
    "\n",
    "# save as csv\n",
    "IDall = pd.DataFrame(IDall)\n",
    "IDall.to_csv(r\"C:\\Users\\120200\\Desktop\\Product Recommendation-Tiger\\Train\\IDS\\ID_bought_product.csv\",index=False)"
   ]
  },
  {
   "cell_type": "code",
   "execution_count": null,
   "metadata": {},
   "outputs": [],
   "source": [
    "# lets collect last 50% of each data for test\n",
    "df_creditID = df7_Credit['身分證字號'].tolist()\n",
    "df_creditID = df_creditID[(len(df_creditID)//2):]\n",
    "df7_FinanceHomeLoanID = df7_FinanceHomeLoan['身分證字號'].tolist()\n",
    "df7_FinanceHomeLoanID = df7_FinanceHomeLoanID[(len(df7_FinanceHomeLoanID)//2):]\n",
    "df7_HomeLoanID = df7_HomeLoan['身分證字號'].tolist()\n",
    "df7_HomeLoanID = df7_HomeLoanID[(len(df7_HomeLoanID)//2):]\n",
    "df7_MutualFundID = df7_MutualFund['身分證字號'].tolist()\n",
    "df7_MutualFundID = df7_MutualFundID[(len(df7_MutualFundID)//2):]\n",
    "IDall = df_creditID + df7_FinanceHomeLoanID + df7_HomeLoanID + df7_MutualFundID\n",
    "# len(IDall) = 2460\n",
    "\n",
    "# drop duplicates\n",
    "IDall = list(dict.fromkeys(IDall))\n",
    "# len(IDall) = 2357 so a few people have mrore than 1 products (not necessarily bought)\n",
    "\n",
    "# save as csv\n",
    "IDall = pd.DataFrame(IDall)\n",
    "IDall.to_csv(r\"C:\\Users\\120200\\Desktop\\Product Recommendation-Tiger\\Train\\IDS\\ID_bought_product_test.csv\",index=False)"
   ]
  }
 ],
 "metadata": {
  "kernelspec": {
   "display_name": "Python 3",
   "language": "python",
   "name": "python3"
  },
  "language_info": {
   "codemirror_mode": {
    "name": "ipython",
    "version": 3
   },
   "file_extension": ".py",
   "mimetype": "text/x-python",
   "name": "python",
   "nbconvert_exporter": "python",
   "pygments_lexer": "ipython3",
   "version": "3.7.4"
  }
 },
 "nbformat": 4,
 "nbformat_minor": 2
}
